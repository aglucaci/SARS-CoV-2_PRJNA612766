{
 "cells": [
  {
   "cell_type": "markdown",
   "id": "56c997c2-0d3a-44b9-bb91-87fbb8231671",
   "metadata": {},
   "source": [
    "# Analyze sex of patients from sex chromosome mapping counts\n",
    "Import Python modules:"
   ]
  },
  {
   "cell_type": "code",
   "execution_count": null,
   "id": "4045a95a-82fc-45a8-86d2-32c1ae2daf22",
   "metadata": {
    "tags": []
   },
   "outputs": [],
   "source": [
    "import altair as alt\n",
    "\n",
    "import pandas as pd"
   ]
  },
  {
   "cell_type": "markdown",
   "id": "d2d99886-1822-452e-8e00-21e42ad9857d",
   "metadata": {},
   "source": [
    "Get variables from `snakemake`:"
   ]
  },
  {
   "cell_type": "code",
   "execution_count": null,
   "id": "846f2626-eeb5-45ce-ab75-619e7d2b6cbf",
   "metadata": {
    "tags": []
   },
   "outputs": [],
   "source": [
    "counts_files = snakemake.input.counts\n",
    "stats_file = snakemake.output.stats\n",
    "chart_file = snakemake.output.chart\n",
    "descriptors = snakemake.params.descriptors\n",
    "reported_sex = snakemake.params.reported_sex\n",
    "\n",
    "assert len(counts_files) == len(descriptors)"
   ]
  },
  {
   "cell_type": "markdown",
   "id": "98ab0256-b588-4411-9f43-bbb31ac91b69",
   "metadata": {},
   "source": [
    "Aggregate all the data into one data frame:"
   ]
  },
  {
   "cell_type": "code",
   "execution_count": null,
   "id": "e71fb6aa-f7e0-47f9-a387-f02a95da55c4",
   "metadata": {},
   "outputs": [],
   "source": [
    "pd.concat([pd.read_csv(f).assign(**descriptor)\n",
    "                      for f, descriptor in zip(counts_files, descriptors)])"
   ]
  },
  {
   "cell_type": "code",
   "execution_count": null,
   "id": "98c6809e-ef8b-4dd1-9fa1-f66c8ee65607",
   "metadata": {
    "tags": []
   },
   "outputs": [],
   "source": [
    "sex_data = pd.concat([pd.read_csv(f).assign(**descriptor)\n",
    "                      for f, descriptor in zip(counts_files, descriptors)])\n",
    "\n",
    "assert set(sex_data['chromosome']) == {'X', 'Y'}\n",
    "\n",
    "sex_data = (\n",
    "    sex_data\n",
    "    .drop(columns='sex')\n",
    "    .pivot_table(index=[c for c in sex_data.columns\n",
    "                        if c not in {'chromosome', 'count', 'sex'}],\n",
    "                 columns='chromosome',\n",
    "                 values='count',\n",
    "                 )\n",
    "    .reset_index() \n",
    "    .assign(reported_sex=lambda x: x['sample'].map(reported_sex),\n",
    "            X_to_Y_ratio=lambda x: x['X'] / x['Y'])\n",
    "    [['sample', 'reported_sex', 'host_genome', 'aligner', 'X', 'Y', 'X_to_Y_ratio']]\n",
    "    )\n",
    "\n",
    "print(f\"Writing data to {stats_file}\")\n",
    "sex_data.to_csv(stats_file, index=False)\n",
    "\n",
    "sex_data"
   ]
  },
  {
   "cell_type": "markdown",
   "id": "8da1889b-03c6-4746-a4cb-174aea69db76",
   "metadata": {},
   "source": [
    "Make an interactive Altair plot:"
   ]
  },
  {
   "cell_type": "code",
   "execution_count": null,
   "id": "344ab587-39cb-4e7d-afb3-5dffaccb5da8",
   "metadata": {
    "tags": []
   },
   "outputs": [],
   "source": [
    "aligner_selection = alt.selection_single(\n",
    "        name='read',\n",
    "        fields=['aligner'],\n",
    "        bind=alt.binding_select(options=sex_data['aligner'].unique()),\n",
    "        init={'aligner': sex_data['aligner'].unique()[0]}\n",
    "        )\n",
    "\n",
    "host_genome_selection = alt.selection_single(\n",
    "        name='reference',\n",
    "        fields=['host_genome'],\n",
    "        bind=alt.binding_select(options=sex_data['host_genome'].unique()),\n",
    "        init={'host_genome': sex_data['host_genome'].unique()[0]}\n",
    "        )\n",
    "\n",
    "sample_selection = alt.selection_single(\n",
    "        fields=['sample'],\n",
    "        on='mouseover',\n",
    "        empty='none'\n",
    "        )\n",
    "\n",
    "lower_bound = 10\n",
    "\n",
    "chart = (\n",
    "    alt.Chart(sex_data)\n",
    "    .transform_fold(['X', 'Y'],\n",
    "                    ['sex chromosome', 'reads mapped'],\n",
    "                    )\n",
    "    .encode(x=alt.X('reads mapped:Q',\n",
    "                    scale=alt.Scale(type='log'),\n",
    "                    axis=alt.Axis(grid=False),\n",
    "                    ),\n",
    "            y='sample:N',\n",
    "            fill='sex chromosome:N',\n",
    "            shape='reported_sex',\n",
    "            size=alt.condition(sample_selection, alt.value(100), alt.value(75)),\n",
    "            stroke=alt.condition(sample_selection, alt.value('black'), alt.value(None)),\n",
    "            tooltip=['sample',\n",
    "                     'reported_sex',\n",
    "                     alt.Tooltip('X', title='X reads'),\n",
    "                     alt.Tooltip('Y', title='Y reads'),\n",
    "                     alt.Tooltip('X_to_Y_ratio',\n",
    "                                 title='X to Y ratio',\n",
    "                                 format='.2g')\n",
    "                     ]\n",
    "            )\n",
    "    .mark_point()\n",
    "    .transform_filter(alt.datum['reads mapped'] >= lower_bound)\n",
    "    .add_selection(aligner_selection,\n",
    "                   host_genome_selection,\n",
    "                   sample_selection)\n",
    "    .transform_filter(aligner_selection)\n",
    "    .transform_filter(host_genome_selection)\n",
    "    .properties(title=f\"Reads mapping to each sex chromosome (counts <{lower_bound} clipped)\")\n",
    "    )\n",
    "\n",
    "print(f\"Saving chart to {chart_file}\")\n",
    "chart.save(chart_file)\n",
    "\n",
    "chart"
   ]
  }
 ],
 "metadata": {
  "kernelspec": {
   "display_name": "Python 3",
   "language": "python",
   "name": "python3"
  },
  "language_info": {
   "codemirror_mode": {
    "name": "ipython",
    "version": 3
   },
   "file_extension": ".py",
   "mimetype": "text/x-python",
   "name": "python",
   "nbconvert_exporter": "python",
   "pygments_lexer": "ipython3",
   "version": "3.8.8"
  }
 },
 "nbformat": 4,
 "nbformat_minor": 5
}
