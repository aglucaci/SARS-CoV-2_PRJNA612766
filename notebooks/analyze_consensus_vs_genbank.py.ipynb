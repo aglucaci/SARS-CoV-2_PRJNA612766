{
 "cells": [
  {
   "cell_type": "markdown",
   "id": "7c7705cb-5a89-4ec4-b0cd-2fa78026b255",
   "metadata": {},
   "source": [
    "# Analyze consensus from deep sequencing pileup versus Genbank accessions\n",
    "\n",
    "Import Python modules:"
   ]
  },
  {
   "cell_type": "code",
   "execution_count": null,
   "id": "23c2d7c5-db4b-43f9-a677-4124a121e859",
   "metadata": {
    "tags": []
   },
   "outputs": [],
   "source": [
    "import altair as alt\n",
    "\n",
    "import Bio.AlignIO\n",
    "\n",
    "import pandas as pd"
   ]
  },
  {
   "cell_type": "markdown",
   "id": "f443a738-19fb-47f1-8cd8-6f23011002dd",
   "metadata": {},
   "source": [
    "Get the pileup-consensus / Genbank alignments along with the descriptions from `snakemake`:"
   ]
  },
  {
   "cell_type": "code",
   "execution_count": null,
   "id": "1d5fb0b6-aff0-45f2-907e-ddb9721deea3",
   "metadata": {
    "tags": []
   },
   "outputs": [],
   "source": [
    "alignments = snakemake.input.alignments\n",
    "descriptors = snakemake.params.descriptors\n",
    "output_csv = snakemake.output.csv\n",
    "output_chart = snakemake.output.chart\n",
    "output_mismatches = snakemake.output.mismatches"
   ]
  },
  {
   "cell_type": "markdown",
   "id": "0e531a8d-87f2-45b4-b9c1-f6c2ede8003b",
   "metadata": {},
   "source": [
    "Create a data frame with the alignments, and then process it to get:\n",
    " - total sites in alignment\n",
    " - sites that are identical\n",
    " - sites that are ambiguous (a `N` in one sequence)\n",
    " - sites that are gapped in either sequence but have a called identity in other\n",
    " - sites that are mismatched called nucleotides\n",
    " - mismatch mutations in sequential 1, 2, ... numbering of reference"
   ]
  },
  {
   "cell_type": "code",
   "execution_count": null,
   "id": "6187c520-943f-435d-85f3-1d4303da9d31",
   "metadata": {
    "tags": []
   },
   "outputs": [],
   "source": [
    "assert len(alignments) == len(descriptors)\n",
    "\n",
    "alignments_df = (\n",
    "    pd.DataFrame({'sample': [d['sample'] for d in descriptors],\n",
    "                  'genome': [d['genome'] for d in descriptors],\n",
    "                  'aligner': [d['aligner'] for d in descriptors],\n",
    "                  'alignment_file': alignments,\n",
    "                  })\n",
    "    )\n",
    "\n",
    "def alignment_stats(aln_file):\n",
    "    aln = Bio.AlignIO.read(aln_file, 'fasta')\n",
    "    assert len(aln) == 2\n",
    "    s1 = str(aln[0].seq).upper()\n",
    "    s2 = str(aln[1].seq).upper()\n",
    "    assert len(s1) == len(s2)\n",
    "    total_sites = len(s1)\n",
    "    identical_sites = ambiguous_sites = mismatched_sites = gapped_sites = r = 0\n",
    "    muts = []\n",
    "    for nt1, nt2 in zip(s1, s2):\n",
    "        if nt1 != '-':\n",
    "            r += 1\n",
    "        if nt1 == nt2:\n",
    "            identical_sites += 1\n",
    "        elif nt1 == 'N' or nt2 == 'N':\n",
    "            ambiguous_sites += 1\n",
    "        elif nt1 == '-' or nt2 == '-':\n",
    "            gapped_sites += 1\n",
    "        else:\n",
    "            mismatched_sites += 1\n",
    "            muts.append(f\"{nt1}{r}{nt2}\")\n",
    "    assert total_sites == identical_sites + ambiguous_sites + mismatched_sites + gapped_sites\n",
    "    return total_sites, identical_sites, ambiguous_sites, mismatched_sites, gapped_sites, ', '.join(muts)\n",
    "\n",
    "for col, vals in zip(['total', 'identical', 'ambiguous', 'mismatched',\n",
    "                      'gapped', 'mismatches (consensus -> Genbank)'],\n",
    "                     zip(*alignments_df['alignment_file'].map(alignment_stats))\n",
    "                     ):\n",
    "    alignments_df[col] = vals\n",
    "    \n",
    "alignments_df = (\n",
    "    alignments_df\n",
    "    .drop(columns='alignment_file')\n",
    "    .assign(sample=lambda x: pd.Categorical(x['sample'], x['sample'].unique(), ordered=True),\n",
    "            genome=lambda x: pd.Categorical(x['genome'], x['genome'].unique(), ordered=True),\n",
    "            aligner=lambda x: pd.Categorical(x['aligner'], x['aligner'].unique(), ordered=True),\n",
    "            )\n",
    "    .sort_values(['sample', 'genome', 'aligner'])\n",
    "    .reset_index(drop=True)\n",
    "    )\n",
    "\n",
    "print(f\"Saving statistics to {output_csv}\")\n",
    "alignments_df.to_csv(output_csv, index=False)\n",
    "\n",
    "alignments_df"
   ]
  },
  {
   "cell_type": "markdown",
   "id": "bd230870-7ddf-4a0f-a2cb-bf2ebc093a62",
   "metadata": {},
   "source": [
    "Get intersection of mismatches among aligners:"
   ]
  },
  {
   "cell_type": "code",
   "execution_count": null,
   "id": "4ddede05-eb97-4305-8c3b-fd742d27bd17",
   "metadata": {
    "tags": []
   },
   "outputs": [],
   "source": [
    "assert 'intersection all aligners' not in alignments_df['aligner'].unique()\n",
    "\n",
    "mismatches = (\n",
    "    alignments_df\n",
    "    .groupby(['sample', 'genome'], as_index=False)\n",
    "    .aggregate({'mismatches (consensus -> Genbank)':\n",
    "                lambda g: ', '.join(\n",
    "                        tup[1] for tup in\n",
    "                            sorted([(int(mut[1: -1]), mut) for mut in\n",
    "                                    set.intersection(*[set(mismatches) for mismatches\n",
    "                                                       in g.str.split(', ')])\n",
    "                                    if mut\n",
    "                                    ])\n",
    "                        )\n",
    "                })\n",
    "    .assign(aligner='intersection all aligners')\n",
    "    .append(alignments_df)\n",
    "    [['sample', 'genome', 'aligner', 'mismatches (consensus -> Genbank)']]\n",
    "    .assign(aligner=lambda x: pd.Categorical(x['aligner'], x['aligner'].unique(), ordered=True))\n",
    "    .sort_values(['sample', 'genome', 'aligner'])\n",
    "    .reset_index(drop=True)\n",
    "    )\n",
    "\n",
    "print(f\"Writing to {output_mismatches}\")\n",
    "mismatches.to_csv(output_mismatches, index=False)\n",
    "\n",
    "mismatches"
   ]
  },
  {
   "cell_type": "markdown",
   "id": "a92f6cbb-682e-4d45-bb5d-d456d33f59c1",
   "metadata": {},
   "source": [
    "Build an Altair interactive chart plotting data frame above:"
   ]
  },
  {
   "cell_type": "code",
   "execution_count": null,
   "id": "094d06f4-adc3-4cbb-a25b-3cbd69ef9223",
   "metadata": {
    "tags": []
   },
   "outputs": [],
   "source": [
    "selection_genome = alt.selection_single(\n",
    "            name='reference',\n",
    "            fields=['genome'],\n",
    "            bind=alt.binding_select(options=alignments_df['genome'].unique().tolist()),\n",
    "            )\n",
    "\n",
    "selection_aligner = alt.selection_single(\n",
    "            name='read',\n",
    "            fields=['aligner'],\n",
    "            bind=alt.binding_select(options=[None] + list(alignments_df['aligner'].unique()),\n",
    "                                    labels=['all'] + list(alignments_df['aligner'].unique()))\n",
    "            )\n",
    "\n",
    "selection_sample = alt.selection_single(\n",
    "            name='virus',\n",
    "            fields=['sample'],\n",
    "            bind=alt.binding_select(options=[None] + list(alignments_df['sample'].unique()),\n",
    "                                    labels=['all'] + list(alignments_df['sample'].unique()))\n",
    "            )\n",
    "\n",
    "xmax = alignments_df['identical'].max()\n",
    "ymax = alignments_df['mismatched'].max()\n",
    "\n",
    "chart = (\n",
    "    alt.Chart(alignments_df)\n",
    "    .encode(\n",
    "        x=alt.X('identical:Q',\n",
    "                axis=alt.Axis(tickMinStep=1),\n",
    "                scale=alt.Scale(domain=(-0.02 * xmax, 1.02 * xmax),\n",
    "                                nice=False)\n",
    "                ),\n",
    "        y=alt.Y('mismatched:Q',\n",
    "                axis=alt.Axis(tickMinStep=1),\n",
    "                scale=alt.Scale(domain=(-0.02 * ymax, 1.02 * ymax),\n",
    "                                nice=False)\n",
    "                ),\n",
    "        color='aligner:N',\n",
    "        fill='aligner:N',\n",
    "        shape='aligner:N',\n",
    "        tooltip=['sample',\n",
    "                 'aligner',\n",
    "                 'identical',\n",
    "                 'ambiguous',\n",
    "                 'mismatched',\n",
    "                 'gapped',\n",
    "                 'mismatches (consensus -> Genbank)']\n",
    "        )\n",
    "    .mark_point(opacity=0.5,\n",
    "                size=40,\n",
    "                )\n",
    "    .add_selection(selection_genome,\n",
    "                   selection_aligner,\n",
    "                   selection_sample,\n",
    "                   )\n",
    "    .transform_filter(selection_genome)\n",
    "    .transform_filter(selection_aligner)\n",
    "    .transform_filter(selection_sample)\n",
    "    .interactive()\n",
    "    .configure_axis(grid=False)\n",
    "    .properties(width=300,\n",
    "                height=300,\n",
    "                title='Deep sequencing consensus compared to Genbank',\n",
    "                )\n",
    "    )\n",
    "\n",
    "print(f\"Saving chart to {output_chart}\")\n",
    "chart.save(output_chart)\n",
    "\n",
    "chart"
   ]
  },
  {
   "cell_type": "code",
   "execution_count": null,
   "id": "1700b184-6a27-4b82-8219-358d5bfff34b",
   "metadata": {},
   "outputs": [],
   "source": []
  }
 ],
 "metadata": {
  "kernelspec": {
   "display_name": "Python 3",
   "language": "python",
   "name": "python3"
  },
  "language_info": {
   "codemirror_mode": {
    "name": "ipython",
    "version": 3
   },
   "file_extension": ".py",
   "mimetype": "text/x-python",
   "name": "python",
   "nbconvert_exporter": "python",
   "pygments_lexer": "ipython3",
   "version": "3.8.8"
  }
 },
 "nbformat": 4,
 "nbformat_minor": 5
}
