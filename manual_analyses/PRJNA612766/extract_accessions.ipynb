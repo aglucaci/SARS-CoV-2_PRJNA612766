{
 "cells": [
  {
   "cell_type": "markdown",
   "id": "7995bc1b-76ee-4859-a3f2-7fa24c1a053b",
   "metadata": {},
   "source": [
    "# Extract accessions from Excel table:\n",
    "Read the table:"
   ]
  },
  {
   "cell_type": "code",
   "execution_count": 1,
   "id": "dd187258-e181-48a9-b635-7c8d2479d677",
   "metadata": {
    "execution": {
     "iopub.execute_input": "2021-05-03T04:35:48.996805Z",
     "iopub.status.busy": "2021-05-03T04:35:48.996555Z",
     "iopub.status.idle": "2021-05-03T04:35:50.079563Z",
     "shell.execute_reply": "2021-05-03T04:35:50.078590Z",
     "shell.execute_reply.started": "2021-05-03T04:35:48.996738Z"
    },
    "tags": []
   },
   "outputs": [],
   "source": [
    "import natsort\n",
    "\n",
    "import pandas as pd\n",
    "\n",
    "table = pd.read_excel('Supplementary_Table_1.xlsx',\n",
    "                      engine='openpyxl')"
   ]
  },
  {
   "cell_type": "markdown",
   "id": "bbf67f08-5c3f-42aa-8384-8cfc412212c1",
   "metadata": {},
   "source": [
    "Get BioProject of interest:"
   ]
  },
  {
   "cell_type": "code",
   "execution_count": 2,
   "id": "879cba3f-d641-4679-a234-da8b3a66883f",
   "metadata": {
    "execution": {
     "iopub.execute_input": "2021-05-03T04:35:50.081998Z",
     "iopub.status.busy": "2021-05-03T04:35:50.081850Z",
     "iopub.status.idle": "2021-05-03T04:35:50.097913Z",
     "shell.execute_reply": "2021-05-03T04:35:50.097345Z",
     "shell.execute_reply.started": "2021-05-03T04:35:50.081982Z"
    },
    "tags": []
   },
   "outputs": [
    {
     "data": {
      "text/plain": [
       "Host          collected_by                         Collection_Date\n",
       "Homo sapiens  Renmin Hospital of Wuhan University  12-Feb-2020         31\n",
       "                                                   15-Jan-2020          2\n",
       "                                                   30-Jan-2020         96\n",
       "Plasmid       Aisi Fu                              12-Feb-2020        112\n",
       "dtype: int64"
      ]
     },
     "execution_count": 2,
     "metadata": {},
     "output_type": "execute_result"
    }
   ],
   "source": [
    "prj = 'PRJNA612766'\n",
    "\n",
    "acc_df = (\n",
    "    table.query('BioProject == @prj')\n",
    "    [['Run', 'Sample Name', 'Collection_Date', 'Host', 'collected_by']]\n",
    "    )\n",
    "\n",
    "acc_df.groupby(['Host', 'collected_by', 'Collection_Date']).size()"
   ]
  },
  {
   "cell_type": "markdown",
   "id": "32284aca-3245-46c1-8961-46c3de136dae",
   "metadata": {},
   "source": [
    "Get accessions of interest:"
   ]
  },
  {
   "cell_type": "code",
   "execution_count": 3,
   "id": "62dccec7-735f-43c0-9eac-db470460e5c6",
   "metadata": {
    "execution": {
     "iopub.execute_input": "2021-05-03T04:35:50.100107Z",
     "iopub.status.busy": "2021-05-03T04:35:50.099961Z",
     "iopub.status.idle": "2021-05-03T04:35:50.145646Z",
     "shell.execute_reply": "2021-05-03T04:35:50.144786Z",
     "shell.execute_reply.started": "2021-05-03T04:35:50.100091Z"
    },
    "tags": []
   },
   "outputs": [
    {
     "data": {
      "text/html": [
       "<div>\n",
       "<style scoped>\n",
       "    .dataframe tbody tr th:only-of-type {\n",
       "        vertical-align: middle;\n",
       "    }\n",
       "\n",
       "    .dataframe tbody tr th {\n",
       "        vertical-align: top;\n",
       "    }\n",
       "\n",
       "    .dataframe thead th {\n",
       "        text-align: right;\n",
       "    }\n",
       "</style>\n",
       "<table border=\"1\" class=\"dataframe\">\n",
       "  <thead>\n",
       "    <tr style=\"text-align: right;\">\n",
       "      <th></th>\n",
       "      <th>sample</th>\n",
       "      <th>collected_by</th>\n",
       "      <th>accessions</th>\n",
       "      <th>collection_date</th>\n",
       "    </tr>\n",
       "  </thead>\n",
       "  <tbody>\n",
       "    <tr>\n",
       "      <th>0</th>\n",
       "      <td>A1</td>\n",
       "      <td>Renmin Hospital of Wuhan University</td>\n",
       "      <td>[SRR11313282, SRR11313334]</td>\n",
       "      <td>early in epidemic</td>\n",
       "    </tr>\n",
       "    <tr>\n",
       "      <th>4</th>\n",
       "      <td>A2</td>\n",
       "      <td>Renmin Hospital of Wuhan University</td>\n",
       "      <td>[SRR11313271, SRR11313461]</td>\n",
       "      <td>early in epidemic</td>\n",
       "    </tr>\n",
       "    <tr>\n",
       "      <th>5</th>\n",
       "      <td>A3</td>\n",
       "      <td>Renmin Hospital of Wuhan University</td>\n",
       "      <td>[SRR11313439, SRR11313450]</td>\n",
       "      <td>early in epidemic</td>\n",
       "    </tr>\n",
       "    <tr>\n",
       "      <th>6</th>\n",
       "      <td>A4</td>\n",
       "      <td>Renmin Hospital of Wuhan University</td>\n",
       "      <td>[SRR11313417, SRR11313428]</td>\n",
       "      <td>early in epidemic</td>\n",
       "    </tr>\n",
       "    <tr>\n",
       "      <th>7</th>\n",
       "      <td>A5</td>\n",
       "      <td>Renmin Hospital of Wuhan University</td>\n",
       "      <td>[SRR11313472, SRR11313501]</td>\n",
       "      <td>early in epidemic</td>\n",
       "    </tr>\n",
       "    <tr>\n",
       "      <th>...</th>\n",
       "      <td>...</td>\n",
       "      <td>...</td>\n",
       "      <td>...</td>\n",
       "      <td>...</td>\n",
       "    </tr>\n",
       "    <tr>\n",
       "      <th>56</th>\n",
       "      <td>R12</td>\n",
       "      <td>Renmin Hospital of Wuhan University</td>\n",
       "      <td>[SRR11313492, SRR11313493]</td>\n",
       "      <td>12-Feb-2020</td>\n",
       "    </tr>\n",
       "    <tr>\n",
       "      <th>57</th>\n",
       "      <td>R13</td>\n",
       "      <td>Renmin Hospital of Wuhan University</td>\n",
       "      <td>[SRR11313489, SRR11313491]</td>\n",
       "      <td>12-Feb-2020</td>\n",
       "    </tr>\n",
       "    <tr>\n",
       "      <th>58</th>\n",
       "      <td>R14</td>\n",
       "      <td>Renmin Hospital of Wuhan University</td>\n",
       "      <td>[SRR11313487, SRR11313488]</td>\n",
       "      <td>12-Feb-2020</td>\n",
       "    </tr>\n",
       "    <tr>\n",
       "      <th>59</th>\n",
       "      <td>R15</td>\n",
       "      <td>Renmin Hospital of Wuhan University</td>\n",
       "      <td>[SRR11313485, SRR11313486]</td>\n",
       "      <td>12-Feb-2020</td>\n",
       "    </tr>\n",
       "    <tr>\n",
       "      <th>60</th>\n",
       "      <td>R16</td>\n",
       "      <td>Renmin Hospital of Wuhan University</td>\n",
       "      <td>[SRR11313483, SRR11313484]</td>\n",
       "      <td>12-Feb-2020</td>\n",
       "    </tr>\n",
       "  </tbody>\n",
       "</table>\n",
       "<p>61 rows × 4 columns</p>\n",
       "</div>"
      ],
      "text/plain": [
       "   sample                         collected_by                  accessions  \\\n",
       "0      A1  Renmin Hospital of Wuhan University  [SRR11313282, SRR11313334]   \n",
       "4      A2  Renmin Hospital of Wuhan University  [SRR11313271, SRR11313461]   \n",
       "5      A3  Renmin Hospital of Wuhan University  [SRR11313439, SRR11313450]   \n",
       "6      A4  Renmin Hospital of Wuhan University  [SRR11313417, SRR11313428]   \n",
       "7      A5  Renmin Hospital of Wuhan University  [SRR11313472, SRR11313501]   \n",
       "..    ...                                  ...                         ...   \n",
       "56    R12  Renmin Hospital of Wuhan University  [SRR11313492, SRR11313493]   \n",
       "57    R13  Renmin Hospital of Wuhan University  [SRR11313489, SRR11313491]   \n",
       "58    R14  Renmin Hospital of Wuhan University  [SRR11313487, SRR11313488]   \n",
       "59    R15  Renmin Hospital of Wuhan University  [SRR11313485, SRR11313486]   \n",
       "60    R16  Renmin Hospital of Wuhan University  [SRR11313483, SRR11313484]   \n",
       "\n",
       "      collection_date  \n",
       "0   early in epidemic  \n",
       "4   early in epidemic  \n",
       "5   early in epidemic  \n",
       "6   early in epidemic  \n",
       "7   early in epidemic  \n",
       "..                ...  \n",
       "56        12-Feb-2020  \n",
       "57        12-Feb-2020  \n",
       "58        12-Feb-2020  \n",
       "59        12-Feb-2020  \n",
       "60        12-Feb-2020  \n",
       "\n",
       "[61 rows x 4 columns]"
      ]
     },
     "execution_count": 3,
     "metadata": {},
     "output_type": "execute_result"
    }
   ],
   "source": [
    "acc_of_interest_df = (\n",
    " acc_df\n",
    " .query('Host == \"Homo sapiens\"')\n",
    " .query('not `Sample Name`.str.startswith(\"PC\")')\n",
    " .query('not `Sample Name`.str.startswith(\"NC\")')\n",
    " .assign(sample=lambda x: x['Sample Name'].str.split('-').str[0])\n",
    " .query('sample != \"respiratory viruses\"')\n",
    " .groupby(['sample', 'collected_by', 'Collection_Date'], as_index=False)\n",
    " .aggregate(accessions=pd.NamedAgg('Run', lambda g: list(g)))\n",
    " .sort_values('sample', key=natsort.natsort_keygen())\n",
    " .assign(collection_date=lambda x: x['Collection_Date'].where(x['sample'].str.startswith('R'), 'early in epidemic'))\n",
    " .drop(columns='Collection_Date')\n",
    " )\n",
    "\n",
    "acc_of_interest_df"
   ]
  },
  {
   "cell_type": "markdown",
   "id": "e64fb174-ad14-4a66-9a4f-44725974ccc0",
   "metadata": {},
   "source": [
    "Write to YAML for configuration file:"
   ]
  },
  {
   "cell_type": "code",
   "execution_count": 4,
   "id": "e6ec2895-06fe-412c-ba36-172b3d206daf",
   "metadata": {
    "execution": {
     "iopub.execute_input": "2021-05-03T04:35:50.148718Z",
     "iopub.status.busy": "2021-05-03T04:35:50.148478Z",
     "iopub.status.idle": "2021-05-03T04:35:50.160761Z",
     "shell.execute_reply": "2021-05-03T04:35:50.160024Z",
     "shell.execute_reply.started": "2021-05-03T04:35:50.148662Z"
    },
    "tags": []
   },
   "outputs": [],
   "source": [
    "lines = ['# -----------------------------------------------------------------',\n",
    "         f\"# BioProject {prj}\",\n",
    "         '# -----------------------------------------------------------------',\n",
    "         ]\n",
    "for _, row in acc_of_interest_df.iterrows():\n",
    "    d = row.to_dict()\n",
    "    lines += [f\"{d['sample']}_{prj}:\",\n",
    "              f\"  accessions: {d['accessions']}\",\n",
    "              f\"  collected_by: {d['collected_by']}\",\n",
    "              f\"  collection_date: {d['collection_date']}\"\n",
    "              ]\n",
    "with open(f\"for_config.yml\", 'w') as f:\n",
    "    f.write('  ' + '\\n  '.join(lines))"
   ]
  },
  {
   "cell_type": "code",
   "execution_count": null,
   "id": "1b7028ab-f3f1-40e9-8b19-cd5f8336f463",
   "metadata": {},
   "outputs": [],
   "source": []
  }
 ],
 "metadata": {
  "kernelspec": {
   "display_name": "Python 3",
   "language": "python",
   "name": "python3"
  },
  "language_info": {
   "codemirror_mode": {
    "name": "ipython",
    "version": 3
   },
   "file_extension": ".py",
   "mimetype": "text/x-python",
   "name": "python",
   "nbconvert_exporter": "python",
   "pygments_lexer": "ipython3",
   "version": "3.8.8"
  }
 },
 "nbformat": 4,
 "nbformat_minor": 5
}
