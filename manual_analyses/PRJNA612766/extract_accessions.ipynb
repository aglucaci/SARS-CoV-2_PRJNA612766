{
 "cells": [
  {
   "cell_type": "markdown",
   "id": "7995bc1b-76ee-4859-a3f2-7fa24c1a053b",
   "metadata": {},
   "source": [
    "# Extract accessions from Excel table:\n",
    "Read the table:"
   ]
  },
  {
   "cell_type": "code",
   "execution_count": 1,
   "id": "dd187258-e181-48a9-b635-7c8d2479d677",
   "metadata": {
    "execution": {
     "iopub.execute_input": "2021-04-29T22:24:25.837002Z",
     "iopub.status.busy": "2021-04-29T22:24:25.836769Z",
     "iopub.status.idle": "2021-04-29T22:24:26.928851Z",
     "shell.execute_reply": "2021-04-29T22:24:26.928104Z",
     "shell.execute_reply.started": "2021-04-29T22:24:25.836947Z"
    },
    "tags": []
   },
   "outputs": [],
   "source": [
    "import pandas as pd\n",
    "\n",
    "table = pd.read_excel('Supplementary_Table_1.xlsx',\n",
    "                      engine='openpyxl')"
   ]
  },
  {
   "cell_type": "markdown",
   "id": "bbf67f08-5c3f-42aa-8384-8cfc412212c1",
   "metadata": {},
   "source": [
    "Get BioProject of interest:"
   ]
  },
  {
   "cell_type": "code",
   "execution_count": 2,
   "id": "879cba3f-d641-4679-a234-da8b3a66883f",
   "metadata": {
    "execution": {
     "iopub.execute_input": "2021-04-29T22:24:26.930097Z",
     "iopub.status.busy": "2021-04-29T22:24:26.929867Z",
     "iopub.status.idle": "2021-04-29T22:24:26.949900Z",
     "shell.execute_reply": "2021-04-29T22:24:26.949281Z",
     "shell.execute_reply.started": "2021-04-29T22:24:26.930075Z"
    },
    "tags": []
   },
   "outputs": [
    {
     "data": {
      "text/plain": [
       "Host          collected_by                         Collection_Date\n",
       "Homo sapiens  Renmin Hospital of Wuhan University  12-Feb-2020         31\n",
       "                                                   15-Jan-2020          2\n",
       "                                                   30-Jan-2020         96\n",
       "Plasmid       Aisi Fu                              12-Feb-2020        112\n",
       "dtype: int64"
      ]
     },
     "execution_count": 2,
     "metadata": {},
     "output_type": "execute_result"
    }
   ],
   "source": [
    "prj = 'PRJNA612766'\n",
    "\n",
    "acc_df = (\n",
    "    table.query('BioProject == @prj')\n",
    "    [['Run', 'Sample Name', 'Collection_Date', 'Host', 'collected_by']]\n",
    "    )\n",
    "\n",
    "acc_df.groupby(['Host', 'collected_by', 'Collection_Date']).size()"
   ]
  },
  {
   "cell_type": "markdown",
   "id": "1d1de1a5-ac2b-4648-8093-cd87f0b8d422",
   "metadata": {},
   "source": [
    "Write configuration YAMLs for each host:"
   ]
  },
  {
   "cell_type": "code",
   "execution_count": 3,
   "id": "37e95827-351d-4435-81a8-250ccc543daf",
   "metadata": {
    "execution": {
     "iopub.execute_input": "2021-04-29T22:24:26.950979Z",
     "iopub.status.busy": "2021-04-29T22:24:26.950767Z",
     "iopub.status.idle": "2021-04-29T22:24:26.986353Z",
     "shell.execute_reply": "2021-04-29T22:24:26.985594Z",
     "shell.execute_reply.started": "2021-04-29T22:24:26.950956Z"
    },
    "tags": []
   },
   "outputs": [],
   "source": [
    "for host, df in acc_df.groupby('Host'):\n",
    "    lines = ['# -----------------------------------------------------------------',\n",
    "             f\"# BioProject {prj}, host {host}\",\n",
    "             '# -----------------------------------------------------------------',\n",
    "             ]\n",
    "    for _, row in df.iterrows():\n",
    "        d = row.to_dict()\n",
    "        lines += [f\"{d['Sample Name']}_{prj}:\",\n",
    "                  f\"  accessions: [{d['Run']}]\",\n",
    "                  f\"  collected_by: {d['collected_by']}\",\n",
    "                  f\"  collection_date: {d['Collection_Date']}\"\n",
    "                  ]\n",
    "    with open(f\"{host}_config.yml\", 'w') as f:\n",
    "        f.write('  ' + '\\n  '.join(lines))"
   ]
  },
  {
   "cell_type": "code",
   "execution_count": null,
   "id": "62dccec7-735f-43c0-9eac-db470460e5c6",
   "metadata": {},
   "outputs": [],
   "source": []
  }
 ],
 "metadata": {
  "kernelspec": {
   "display_name": "Python 3",
   "language": "python",
   "name": "python3"
  },
  "language_info": {
   "codemirror_mode": {
    "name": "ipython",
    "version": 3
   },
   "file_extension": ".py",
   "mimetype": "text/x-python",
   "name": "python",
   "nbconvert_exporter": "python",
   "pygments_lexer": "ipython3",
   "version": "3.8.8"
  }
 },
 "nbformat": 4,
 "nbformat_minor": 5
}
